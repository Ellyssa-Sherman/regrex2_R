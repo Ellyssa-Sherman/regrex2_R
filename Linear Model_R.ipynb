{
 "cells": [
  {
   "cell_type": "code",
   "execution_count": null,
   "id": "august-imagination",
   "metadata": {},
   "outputs": [],
   "source": [
    "# Import data csv file\n",
    "\n",
    "dataset <- \"regrex1.csv\"\n",
    "read.table(dataset,\n",
    "          header = TRUE,\n",
    "          sep = \",\",\n",
    "          stringsAsFactors = FALSE)"
   ]
  },
  {
   "cell_type": "code",
   "execution_count": null,
   "id": "equivalent-pillow",
   "metadata": {},
   "outputs": [],
   "source": [
    "class(dataset)"
   ]
  },
  {
   "cell_type": "code",
   "execution_count": null,
   "id": "relevant-cargo",
   "metadata": {},
   "outputs": [],
   "source": []
  }
 ],
 "metadata": {
  "kernelspec": {
   "display_name": "R",
   "language": "R",
   "name": "ir"
  },
  "language_info": {
   "codemirror_mode": "r",
   "file_extension": ".r",
   "mimetype": "text/x-r-source",
   "name": "R",
   "pygments_lexer": "r",
   "version": "4.0.1"
  }
 },
 "nbformat": 4,
 "nbformat_minor": 5
}
